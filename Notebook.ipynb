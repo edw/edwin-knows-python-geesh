{
 "cells": [
  {
   "cell_type": "markdown",
   "metadata": {},
   "source": [
    "# Some Project Euler Solutions in Python 3\n",
    "\n",
    "December 18, 2019  \n",
    "Edwin Watkeys"
   ]
  },
  {
   "cell_type": "code",
   "execution_count": 1,
   "metadata": {},
   "outputs": [],
   "source": [
    "import numpy, itertools, functools, array"
   ]
  },
  {
   "cell_type": "markdown",
   "metadata": {},
   "source": [
    "#### 1. Multiples of 3 and 5"
   ]
  },
  {
   "cell_type": "code",
   "execution_count": 2,
   "metadata": {},
   "outputs": [
    {
     "data": {
      "text/plain": [
       "233168"
      ]
     },
     "execution_count": 2,
     "metadata": {},
     "output_type": "execute_result"
    }
   ],
   "source": [
    "numpy.sum([i for i in range(1, 1000) if (i % 3 == 0) or (i % 5== 0)])"
   ]
  },
  {
   "cell_type": "markdown",
   "metadata": {},
   "source": [
    "#### 2. Even Fibonacci numbers"
   ]
  },
  {
   "cell_type": "code",
   "execution_count": 3,
   "metadata": {},
   "outputs": [
    {
     "data": {
      "text/plain": [
       "4613732"
      ]
     },
     "execution_count": 3,
     "metadata": {},
     "output_type": "execute_result"
    }
   ],
   "source": [
    "def fibs():\n",
    "    a = 0\n",
    "    b = 1\n",
    "    while True:\n",
    "        yield a\n",
    "        a,b = b, a+b\n",
    "\n",
    "fib_limit = 4000000\n",
    "my_fibs = itertools.takewhile(lambda x: x <= fib_limit, fibs())\n",
    "numpy.sum([x for x in my_fibs if x % 2 == 0])"
   ]
  },
  {
   "cell_type": "markdown",
   "metadata": {},
   "source": [
    "#### 3. Largest prime factor"
   ]
  },
  {
   "cell_type": "code",
   "execution_count": 4,
   "metadata": {},
   "outputs": [],
   "source": [
    "def primes():\n",
    "    \"\"\"Generate primes.\"\"\"\n",
    "    ps = []\n",
    "    n = 2\n",
    "    while True:\n",
    "        our_ps = itertools.takewhile(lambda x: x <= numpy.sqrt(n), ps)\n",
    "        if len([x for x in our_ps if n % x == 0]) == 0:\n",
    "            yield n\n",
    "            ps.append(n)\n",
    "        n = n + 1\n",
    "\n",
    "class BitArray:\n",
    "    \"\"\"A simple bit array.\"\"\"\n",
    "    storage_type = 'L'\n",
    "    item_bits = 32\n",
    "    allbits_mask = 0xffffffff\n",
    "    \n",
    "    def __init__(self, size, default_value = 0x0):\n",
    "        l = int(numpy.ceil(size/BitArray.item_bits))\n",
    "        self.storage = array.array(BitArray.storage_type, [default_value for _ in range(l)])\n",
    "    \n",
    "    def set_bit(self, i):\n",
    "        offset = i // BitArray.item_bits\n",
    "        mask = 0x01 << i % BitArray.item_bits\n",
    "        self.storage[offset] = self.storage[offset] | mask\n",
    "    \n",
    "    def reset_bit(self, i):\n",
    "        offset = i // BitArray.item_bits\n",
    "        mask = 0x01 << i % BitArray.item_bits\n",
    "        self.storage[offset] = self.storage[offset] & (BitArray.allbits_mask ^ mask)\n",
    "\n",
    "    def is_bit_set(self, i):\n",
    "        offset = i // BitArray.item_bits\n",
    "        mask = 0x01 << i % BitArray.item_bits\n",
    "        return (self.storage[offset] & mask) != 0\n",
    "                \n",
    "def sieve_primes(max_prime):\n",
    "    \"\"\"Return a BitArray of primes between zero and max_prime inclusive.\"\"\"\n",
    "    a = BitArray(max_prime + 1, 0xffffffff)\n",
    "    a.reset_bit(0); a.reset_bit(1) # Not primes\n",
    "\n",
    "    for i in range(2, int(numpy.sqrt(max_prime))+1):\n",
    "        for j in range(2*i, max_prime+1, i):\n",
    "            a.reset_bit(j)\n",
    "    return a\n",
    "        \n",
    "def prime_factors(n):\n",
    "    \"\"\"Return iterator of prime factors of n from highest to lowest.\"\"\"\n",
    "    max_prime = int(numpy.sqrt(n))\n",
    "    prime_bits = sieve_primes(max_prime)\n",
    "    our_primes = [i for i in range(2, max_prime+1) if prime_bits.is_bit_set(i)]\n",
    "    our_primes.reverse()\n",
    "    while True:\n",
    "        try:\n",
    "            factor = next(filter(lambda x: n % x == 0, our_primes))\n",
    "            yield factor\n",
    "            n = n / factor\n",
    "        except StopIteration:\n",
    "            yield int(n)\n",
    "            break"
   ]
  },
  {
   "cell_type": "markdown",
   "metadata": {},
   "source": [
    "<strike>Given that we know that we're never going to be asked for a prime higher than the square root of 600851475143 (roughly 775146.1), I should really just implement Sieve of Erasthones with a bit-array and trade time for space here.</strike>"
   ]
  },
  {
   "cell_type": "markdown",
   "metadata": {},
   "source": [
    "Using the Sieve of Erasthones, the correct solution is computed in approximately one tenth the time of using the naive `primes()` implementation."
   ]
  },
  {
   "cell_type": "code",
   "execution_count": 5,
   "metadata": {},
   "outputs": [
    {
     "data": {
      "text/plain": [
       "6857"
      ]
     },
     "execution_count": 5,
     "metadata": {},
     "output_type": "execute_result"
    }
   ],
   "source": [
    "next(prime_factors(600851475143))"
   ]
  },
  {
   "cell_type": "markdown",
   "metadata": {},
   "source": [
    "#### 4. Largest palindrome product"
   ]
  },
  {
   "cell_type": "code",
   "execution_count": 6,
   "metadata": {},
   "outputs": [
    {
     "data": {
      "text/plain": [
       "906609"
      ]
     },
     "execution_count": 6,
     "metadata": {},
     "output_type": "execute_result"
    }
   ],
   "source": [
    "def is_palindromic(n):\n",
    "    s = '%s' % (n)\n",
    "    r1 = range(0, len(s), 1)\n",
    "    r2 = range(len(s)-1, -1, -1)\n",
    "    n_tests = (len(r1) // 2) + 1\n",
    "    matches = [s[r1[x]] == s[r2[x]] for x in range(0, n_tests)]\n",
    "    return len([x for x in matches if x]) == n_tests\n",
    "\n",
    "max([x * y for x in range(100, 1000) for y in range(100, 1000) if is_palindromic(x*y)])"
   ]
  },
  {
   "cell_type": "markdown",
   "metadata": {},
   "source": [
    "#### 5. Smallest multiple"
   ]
  },
  {
   "cell_type": "code",
   "execution_count": 7,
   "metadata": {},
   "outputs": [],
   "source": [
    "def seq_to_bag(seq):\n",
    "    bag = {}\n",
    "    for item in seq:\n",
    "        if item in bag:\n",
    "            bag[item] = bag[item] + 1\n",
    "        else:\n",
    "            bag[item] = 1\n",
    "    return bag\n",
    "\n",
    "def merge_seq_into_bag(seq, bag):\n",
    "    bag2 = seq_to_bag(seq)\n",
    "    for x,y in bag2.items():\n",
    "        if x in bag:\n",
    "            bag[x] = max(bag[x],y)\n",
    "        else:\n",
    "            bag[x] = y\n",
    "    return bag\n",
    "            \n",
    "def lcm_bag(seq):\n",
    "    bag = {}\n",
    "    for item in seq:\n",
    "        merge_seq_into_bag(prime_factors(item), bag)\n",
    "    return bag\n",
    "\n",
    "def bag_product(m):\n",
    "    items = list(m.items())\n",
    "    return functools.reduce(lambda x,y: x * y[0] ** y[1], items, 1)"
   ]
  },
  {
   "cell_type": "code",
   "execution_count": 8,
   "metadata": {},
   "outputs": [
    {
     "data": {
      "text/plain": [
       "232792560"
      ]
     },
     "execution_count": 8,
     "metadata": {},
     "output_type": "execute_result"
    }
   ],
   "source": [
    "bag_product(lcm_bag(range(1,20+1)))"
   ]
  },
  {
   "cell_type": "markdown",
   "metadata": {},
   "source": [
    "#### 6. Sum square difference"
   ]
  },
  {
   "cell_type": "code",
   "execution_count": 9,
   "metadata": {},
   "outputs": [
    {
     "data": {
      "text/plain": [
       "25164150"
      ]
     },
     "execution_count": 9,
     "metadata": {},
     "output_type": "execute_result"
    }
   ],
   "source": [
    "numpy.abs(sum([x ** 2 for x in range(1, 100+1)]) - sum([x for x in range(1,100+1)]) ** 2)"
   ]
  },
  {
   "cell_type": "markdown",
   "metadata": {},
   "source": [
    "#### 7. 10001st prime"
   ]
  },
  {
   "cell_type": "code",
   "execution_count": 10,
   "metadata": {},
   "outputs": [
    {
     "data": {
      "text/plain": [
       "104759"
      ]
     },
     "execution_count": 10,
     "metadata": {},
     "output_type": "execute_result"
    }
   ],
   "source": [
    "def nth(iterable, n):\n",
    "    return list(itertools.islice(iterable, n, n+1))[0]\n",
    "\n",
    "nth(primes(), 10001)"
   ]
  }
 ],
 "metadata": {
  "kernelspec": {
   "display_name": "Python 3",
   "language": "python",
   "name": "python3"
  },
  "language_info": {
   "codemirror_mode": {
    "name": "ipython",
    "version": 3
   },
   "file_extension": ".py",
   "mimetype": "text/x-python",
   "name": "python",
   "nbconvert_exporter": "python",
   "pygments_lexer": "ipython3",
   "version": "3.7.5"
  }
 },
 "nbformat": 4,
 "nbformat_minor": 4
}
